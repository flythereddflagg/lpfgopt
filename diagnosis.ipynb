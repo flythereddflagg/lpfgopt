{
 "cells": [
  {
   "cell_type": "code",
   "execution_count": 1,
   "metadata": {},
   "outputs": [],
   "source": [
    "from lpfgopt.c_leapfrog import minimize as c_minimize"
   ]
  },
  {
   "cell_type": "code",
   "execution_count": 2,
   "metadata": {},
   "outputs": [],
   "source": [
    "def test_unit_c():\n",
    "    \"\"\"\n",
    "    General use unit test for the C code\n",
    "    \"\"\"\n",
    "\n",
    "    def _f_test(x, offset):\n",
    "        return 2.0 * x[0]**2 + x[1]**2 + offset\n",
    "\n",
    "    _g1 = lambda x: x[0] + 3\n",
    "\n",
    "    _intvls = [\n",
    "        [-10.0, 10.0],\n",
    "        [-10.0, 10.0]]\n",
    "\n",
    "    _starting_points = [\n",
    "        [-3.269716623,   -7.930871],\n",
    "        [-0.301065303,   2.3311285],\n",
    "        [-7.378448241,   6.1100162],\n",
    "        [-0.191330390,   7.0158780],\n",
    "        [-7.217230801,   -8.815178],\n",
    "        [-6.878029799,   4.0923533],\n",
    "        [-4.587077226,   9.0630253],\n",
    "        [-9.755670223,   -8.901648],\n",
    "        [4.9019506940,   -3.184652],\n",
    "        [-7.532104399,   1.6987271],\n",
    "        [5.4372269021,   0.5777975],\n",
    "        [-7.739404401,   9.8297502],\n",
    "        [0.5493843932,   5.6662483],\n",
    "        [9.2385537811,   -7.513752],\n",
    "        [-1.295963317,   -4.268123],\n",
    "        [7.7269409075,   1.4205298],\n",
    "        [-4.322107922,   6.0013770],\n",
    "        [-7.112370271,   9.4093474],\n",
    "        [1.9372210724,   7.5056536],\n",
    "        [7.0920413003,  -9.8860190]]\n",
    "\n",
    "    options = {\n",
    "        \"fun\"         : _f_test,\n",
    "        \"bounds\"      : _intvls,\n",
    "        \"args\"        : (3.0,),\n",
    "        \"points\"      : len(_starting_points),\n",
    "        \"fconstraint\" : _g1,\n",
    "        \"discrete\"    : [0,1],\n",
    "        \"maxit\"       : 5000,\n",
    "        \"tol\"         : 1e-3,\n",
    "        \"seedval\"     : 1235,\n",
    "        \"pointset\"    : _starting_points,\n",
    "#         \"callback\"    : lambda x: print(x)\n",
    "        }\n",
    "\n",
    "    # Constrained and discrete optimization -----------------------------------\n",
    "    solution = c_minimize(**options)\n",
    "\n",
    "    print(solution)\n",
    "\n",
    "    check = [21.0, -3, 0]\n",
    "    for i in range(len(solution[\"best\"])):\n",
    "        assert solution[\"best\"][i] == check[i], f\"Unit test failed on {i}\""
   ]
  },
  {
   "cell_type": "code",
   "execution_count": null,
   "metadata": {},
   "outputs": [
    {
     "name": "stdout",
     "output_type": "stream",
     "text": [
      "init done\n"
     ]
    }
   ],
   "source": [
    "test_unit_c()"
   ]
  },
  {
   "cell_type": "code",
   "execution_count": null,
   "metadata": {},
   "outputs": [],
   "source": []
  }
 ],
 "metadata": {
  "kernelspec": {
   "display_name": "Python 3",
   "language": "python",
   "name": "python3"
  },
  "language_info": {
   "codemirror_mode": {
    "name": "ipython",
    "version": 3
   },
   "file_extension": ".py",
   "mimetype": "text/x-python",
   "name": "python",
   "nbconvert_exporter": "python",
   "pygments_lexer": "ipython3",
   "version": "3.8.3"
  }
 },
 "nbformat": 4,
 "nbformat_minor": 2
}
