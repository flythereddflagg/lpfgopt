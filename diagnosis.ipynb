{
 "cells": [
  {
   "cell_type": "code",
   "execution_count": 1,
   "metadata": {},
   "outputs": [],
   "source": [
    "from lpfgopt.c_leapfrog import minimize as c_minimize"
   ]
  },
  {
   "cell_type": "code",
   "execution_count": 2,
   "metadata": {},
   "outputs": [],
   "source": [
    "def test_unit_c():\n",
    "    \"\"\"\n",
    "    General use unit test for the C code\n",
    "    \"\"\"\n",
    "\n",
    "    def _f_test(x, offset):\n",
    "        return 2.0 * x[0]**2 + x[1]**2 + offset\n",
    "\n",
    "    _g1 = lambda x: x[0] + 3\n",
    "\n",
    "    _intvls = [\n",
    "        [-10.0, 10.0],\n",
    "        [-10.0, 10.0]]\n",
    "\n",
    "    _starting_points = [\n",
    "        [-3.26,   -7.9],\n",
    "        [-0.30,   2.33],\n",
    "        [-7.37,   6.11],\n",
    "        [-0.19,   7.01],\n",
    "        [-7.21,   -8.8],\n",
    "        [-6.87,   4.09],\n",
    "        [-4.58,   9.06],\n",
    "        [-9.75,   -8.9],\n",
    "        [4.901,   -3.1],\n",
    "        [-7.53,   1.69],\n",
    "        [5.437,   0.57],\n",
    "        [-7.73,   9.82],\n",
    "        [0.549,   5.66],\n",
    "        [9.238,   -7.5],\n",
    "        [-1.29,   -4.2],\n",
    "        [7.726,   1.42],\n",
    "        [-4.32,   6.00],\n",
    "        [-7.11,   9.40],\n",
    "        [1.937,   7.50],\n",
    "        [7.092,  -9.88]]\n",
    "\n",
    "    options = {\n",
    "        \"fun\"         : _f_test,\n",
    "        \"bounds\"      : _intvls,\n",
    "        \"args\"        : (3.0,),\n",
    "        \"points\"      : len(_starting_points),\n",
    "        \"fconstraint\" : _g1,\n",
    "        \"discrete\"    : [0,1],\n",
    "        \"maxit\"       : 5000,\n",
    "        \"tol\"         : 1e-3,\n",
    "        \"seedval\"     : 1235,\n",
    "        \"pointset\"    : _starting_points,\n",
    "#         \"callback\"    : lambda x: print(x)\n",
    "        }\n",
    "\n",
    "    # Constrained and discrete optimization -----------------------------------\n",
    "    solution = c_minimize(**options)\n",
    "\n",
    "    print(solution)\n",
    "\n",
    "    check = [21.0, -3, 0]\n",
    "    for i in range(len(solution[\"best\"])):\n",
    "        assert solution[\"best\"][i] == check[i], f\"Unit test failed on {i}\""
   ]
  },
  {
   "cell_type": "code",
   "execution_count": null,
   "metadata": {},
   "outputs": [
    {
     "name": "stdout",
     "output_type": "stream",
     "text": [
      "init done\n"
     ]
    }
   ],
   "source": [
    "test_unit_c()"
   ]
  },
  {
   "cell_type": "code",
   "execution_count": null,
   "metadata": {},
   "outputs": [],
   "source": []
  }
 ],
 "metadata": {
  "kernelspec": {
   "display_name": "Python 3",
   "language": "python",
   "name": "python3"
  },
  "language_info": {
   "codemirror_mode": {
    "name": "ipython",
    "version": 3
   },
   "file_extension": ".py",
   "mimetype": "text/x-python",
   "name": "python",
   "nbconvert_exporter": "python",
   "pygments_lexer": "ipython3",
   "version": "3.8.3"
  }
 },
 "nbformat": 4,
 "nbformat_minor": 2
}
