{
 "cells": [
  {
   "cell_type": "code",
   "execution_count": 1,
   "metadata": {},
   "outputs": [
    {
     "ename": "ModuleNotFoundError",
     "evalue": "No module named 'lpfgopt'",
     "output_type": "error",
     "traceback": [
      "\u001b[1;31m---------------------------------------------------------------------------\u001b[0m",
      "\u001b[1;31mModuleNotFoundError\u001b[0m                       Traceback (most recent call last)",
      "\u001b[1;32m<ipython-input-1-16e93bc80cff>\u001b[0m in \u001b[0;36m<module>\u001b[1;34m\u001b[0m\n\u001b[1;32m----> 1\u001b[1;33m \u001b[1;32mfrom\u001b[0m \u001b[0mlpfgopt\u001b[0m \u001b[1;32mimport\u001b[0m \u001b[0mminimize\u001b[0m\u001b[1;33m\u001b[0m\u001b[1;33m\u001b[0m\u001b[0m\n\u001b[0m\u001b[0;32m      2\u001b[0m \u001b[1;32mimport\u001b[0m \u001b[0mmatplotlib\u001b[0m\u001b[1;33m.\u001b[0m\u001b[0mpyplot\u001b[0m \u001b[1;32mas\u001b[0m \u001b[0mplt\u001b[0m\u001b[1;33m\u001b[0m\u001b[1;33m\u001b[0m\u001b[0m\n\u001b[0;32m      3\u001b[0m \u001b[1;33m\u001b[0m\u001b[0m\n\u001b[0;32m      4\u001b[0m \u001b[1;31m# set up the objective funciton,\u001b[0m\u001b[1;33m\u001b[0m\u001b[1;33m\u001b[0m\u001b[1;33m\u001b[0m\u001b[0m\n\u001b[0;32m      5\u001b[0m \u001b[1;31m# constraint fuction and bounds\u001b[0m\u001b[1;33m\u001b[0m\u001b[1;33m\u001b[0m\u001b[1;33m\u001b[0m\u001b[0m\n",
      "\u001b[1;31mModuleNotFoundError\u001b[0m: No module named 'lpfgopt'"
     ]
    }
   ],
   "source": [
    "from lpfgopt import minimize\n",
    "import matplotlib.pyplot as plt\n",
    "\n",
    "# set up the objective funciton, \n",
    "# constraint fuction and bounds\n",
    "f = lambda x: sum([i**2 for i in x])\n",
    "g = lambda x: -x[0]**2 + 10 - x[1] \n",
    "bounds = [[-5,5] for i in range(2)]\n",
    "\n",
    "# run the optimization\n",
    "sol = minimize(f, bounds, fconstraint=g)['x']\n",
    "print(f\"Solution is: {sol}\")\n",
    "\n",
    "# plot the results on a contour plot\n",
    "gg = lambda x: -x**2 + 10 # for plotting purposes\n",
    "\n",
    "plt.figure(figsize=(8,8))\n",
    "x, y = np.linspace(-5,5,1000), np.linspace(-5,5,1000)\n",
    "X, Y = np.meshgrid(x,y)\n",
    "Z = f([X,Y])\n",
    "\n",
    "plt.contourf(X,Y,Z)\n",
    "plt.plot(x, gg(x), \"r\", label=\"constraint\")\n",
    "plt.plot(*sol, 'x', \n",
    "         markersize=14, \n",
    "         markeredgewidth=4, \n",
    "         color=\"lime\", \n",
    "         label=\"optimum\")\n",
    "plt.ylim(-5,5)\n",
    "plt.xlim(-5,5)\n",
    "plt.legend()\n",
    "plt.show()"
   ]
  },
  {
   "cell_type": "code",
   "execution_count": null,
   "metadata": {},
   "outputs": [],
   "source": []
  }
 ],
 "metadata": {
  "kernelspec": {
   "display_name": "Python 3",
   "language": "python",
   "name": "python3"
  },
  "language_info": {
   "codemirror_mode": {
    "name": "ipython",
    "version": 3
   },
   "file_extension": ".py",
   "mimetype": "text/x-python",
   "name": "python",
   "nbconvert_exporter": "python",
   "pygments_lexer": "ipython3",
   "version": "3.7.4"
  }
 },
 "nbformat": 4,
 "nbformat_minor": 2
}
