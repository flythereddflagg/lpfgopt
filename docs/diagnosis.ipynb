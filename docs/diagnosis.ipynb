{
 "cells": [
  {
   "cell_type": "code",
   "execution_count": 8,
   "metadata": {},
   "outputs": [],
   "source": [
    "import numpy as np\n",
    "from lpfgopt.leapfrog import LeapFrog\n",
    "from lpfgopt import minimize\n",
    "from scipy.optimize import fsolve\n",
    "import matplotlib.pyplot as plt\n",
    "%matplotlib inline"
   ]
  },
  {
   "cell_type": "code",
   "execution_count": 2,
   "metadata": {},
   "outputs": [],
   "source": [
    "def run(f, bounds, check, options={}, output=False, tol=1e-3):\n",
    "    '''\n",
    "    Runs a benchmark test with the given parameters and causes a\n",
    "    failing result for nosetests on a failure.\n",
    "    '''\n",
    "    lf = LeapFrog(f, bounds, **options)\n",
    "#     print(lf)\n",
    "#     for i  in range(100):\n",
    "#         lf.iterate()\n",
    "#         print(lf)\n",
    "#         input(\"> \")\n",
    "    \n",
    "    sol = lf.minimize()\n",
    "    \n",
    "    r = \"Correct opt\"\n",
    "    print(f\"{r:12} : {check}\\n\")\n",
    "    \n",
    "    for key, value in sol.items():\n",
    "        if key == \"pointset\": continue\n",
    "        print(f\"{key:12} : {value}\")\n",
    "\n",
    "    for i in sol['pointset']:\n",
    "        print(i)\n",
    "\n",
    "    assert sol['success'], \"Optimization Failed\"\n",
    "    \n",
    "    for i in range(len(check)):\n",
    "        if abs(check[i]) < tol:\n",
    "            norm = 1.0\n",
    "        else:\n",
    "            norm = check[i]\n",
    "        err = abs((check[i] - sol['x'][i])/norm)\n",
    "        assert err <= tol, f\"Failed on parameter index {i} with error {err}\"\n",
    "    \n",
    "    if output:\n",
    "        raise Exception(\"Generic Exception\")\n",
    "\n",
    "def g(x):\n",
    "        conval = 0\n",
    "        cons = [\n",
    "            (x[0] - 1)**3 - x[1] + 1,\n",
    "            x[0] + x[1] - 2         ]\n",
    "        for con in cons:\n",
    "            if con > 0:\n",
    "                conval += con\n",
    "        return conval *100\n",
    "        \n",
    "def rosenbrock_line_cubic_test():\n",
    "    \"\"\"\n",
    "    Rosenbrock function constrained with a cubic and a line benchmark\n",
    "    \"\"\"        \n",
    "    options = {\n",
    "        \"tol\"         : 1e-3,\n",
    "        \"seedval\"     : 4815162342,\n",
    "        \"fconstraint\" : g\n",
    "        }\n",
    "        \n",
    "    f = lambda x: (1 - x[0])**2 + 100*(x[1] - x[0]**2)**2\n",
    "    \n",
    "    bounds = [\n",
    "        [-1.5, 1.5],\n",
    "        [-0.5, 2.5]]\n",
    "#    bounds = [\n",
    "#         [-3.0, 3.0],\n",
    "#         [-3.0, 3.0]]\n",
    "    check = [1.0, 1.0]\n",
    "    \n",
    "    run(f, bounds, check, options, tol=1.5e-3)\n"
   ]
  },
  {
   "cell_type": "code",
   "execution_count": 3,
   "metadata": {},
   "outputs": [
    {
     "name": "stdout",
     "output_type": "stream",
     "text": [
      "0.0029999700000837848\n",
      "0.9999800101002001\n"
     ]
    }
   ],
   "source": [
    "def g(x):\n",
    "        conval = 0\n",
    "        cons = [\n",
    "            (x[0] - 1)**3 - x[1] + 1,\n",
    "            x[0] + x[1] - 2         ]\n",
    "        for con in cons:\n",
    "            if con > 0:\n",
    "                conval += con\n",
    "        return conval *100\n",
    "f = lambda x: (1 - x[0])**2 + 100*(x[1] - x[0]**2)**2\n",
    "print(g([0.00001,0.0]))\n",
    "print(f([0.00001,-0.00001]))"
   ]
  },
  {
   "cell_type": "code",
   "execution_count": 4,
   "metadata": {},
   "outputs": [],
   "source": [
    "#rosenbrock_line_cubic_test()"
   ]
  },
  {
   "cell_type": "code",
   "execution_count": 32,
   "metadata": {},
   "outputs": [
    {
     "name": "stdout",
     "output_type": "stream",
     "text": [
      "Solution is: [-3.0958051486911997, 0.4159905027317925]\n"
     ]
    },
    {
     "data": {
      "image/png": "[encoded data removed]",
      "text/plain": [
       "<Figure size 576x576 with 1 Axes>"
      ]
     },
     "metadata": {
      "needs_background": "light"
     },
     "output_type": "display_data"
    }
   ],
   "source": [
    "from lpfgopt import minimize\n",
    "import matplotlib.pyplot as plt\n",
    "\n",
    "# set up the objective funciton, \n",
    "# constraint fuction and bounds\n",
    "f = lambda x: sum([i**2 for i in x])\n",
    "g = lambda x: -x[0]**2 + 10 - x[1] \n",
    "bounds = [[-5,5] for i in range(2)]\n",
    "\n",
    "# run the optimization\n",
    "sol = minimize(f, bounds, fconstraint=g)['x']\n",
    "print(f\"Solution is: {sol}\")\n",
    "\n",
    "# plot the results on a contour plot\n",
    "gg = lambda x: -x**2 + 10 # for plotting purposes\n",
    "\n",
    "plt.figure(figsize=(8,8))\n",
    "x, y = np.linspace(-5,5,1000), np.linspace(-5,5,1000)\n",
    "X, Y = np.meshgrid(x,y)\n",
    "Z = f([X,Y])\n",
    "\n",
    "plt.contourf(X,Y,Z)\n",
    "plt.plot(x, gg(x), \"r\", label=\"constraint\")\n",
    "plt.plot(*sol, 'x', \n",
    "         markersize=14, \n",
    "         markeredgewidth=4, \n",
    "         color=\"lime\", \n",
    "         label=\"optimum\")\n",
    "plt.ylim(-5,5)\n",
    "plt.xlim(-5,5)\n",
    "plt.legend()\n",
    "plt.show()"
   ]
  },
  {
   "cell_type": "code",
   "execution_count": 6,
   "metadata": {},
   "outputs": [
    {
     "data": {
      "text/plain": [
       "(-1.5, 1.5)"
      ]
     },
     "execution_count": 6,
     "metadata": {},
     "output_type": "execute_result"
    },
    {
     "data": {
      "image/png": "[encoded data removed]",
      "text/plain": [
       "<Figure size 432x288 with 1 Axes>"
      ]
     },
     "metadata": {
      "needs_background": "light"
     },
     "output_type": "display_data"
    }
   ],
   "source": [
    "g = lambda x: -x[0]**2 + 10 - x[1] \n",
    "gg = lambda x: (x - 1)**3 + 1\n",
    "g2 = lambda x: x - 2 \n",
    "f = lambda x: (1 - x[0])**2 + 100*(x[1] - x[0]**2)**2\n",
    "lowerx, upperx = [-1.5, 1.5]\n",
    "lowery, uppery = [-0.5, 2.5]\n",
    "x, y = np.linspace(lowerx, upperx,1000), np.linspace(lowery, uppery,1000)\n",
    "X, Y = np.meshgrid(x,y)\n",
    "Z = f([X,Y])\n",
    "\n",
    "plt.contourf(X,Y,Z)\n",
    "plt.plot(x, gg(x))\n",
    "plt.plot(x, g2(x))\n",
    "plt.plot([1],[1], 'o')\n",
    "plt.plot([0],[0], 'o')\n",
    "plt.ylim(lowery, uppery)\n",
    "plt.xlim(lowerx, upperx)"
   ]
  },
  {
   "cell_type": "code",
   "execution_count": 7,
   "metadata": {},
   "outputs": [
    {
     "name": "stderr",
     "output_type": "stream",
     "text": [
      "C:\\Users\\Mark Redd\\AppData\\Roaming\\Python\\Python37\\site-packages\\scipy\\optimize\\minpack.py:163: RuntimeWarning: The iteration is not making good progress, as measured by the \n",
      "  improvement from the last ten iterations.\n",
      "  warnings.warn(msg, RuntimeWarning)\n",
      "C:\\Users\\Mark Redd\\AppData\\Roaming\\Python\\Python37\\site-packages\\scipy\\optimize\\minpack.py:163: RuntimeWarning: The iteration is not making good progress, as measured by the \n",
      "  improvement from the last five Jacobian evaluations.\n",
      "  warnings.warn(msg, RuntimeWarning)\n"
     ]
    },
    {
     "data": {
      "text/plain": [
       "[<matplotlib.lines.Line2D at 0x19e6bbd6fd0>]"
      ]
     },
     "execution_count": 7,
     "metadata": {},
     "output_type": "execute_result"
    },
    {
     "data": {
      "image/png": "[encoded data removed]",
      "text/plain": [
       "<Figure size 432x288 with 1 Axes>"
      ]
     },
     "metadata": {
      "needs_background": "light"
     },
     "output_type": "display_data"
    }
   ],
   "source": [
    "f = lambda x: 0.1 * x[0] * x[1]\n",
    "\n",
    "def g(vs):\n",
    "    x, y = vs\n",
    "    rt, rs, n = 1.0, 0.2, 8.0\n",
    "    return x**2 + y**2 - (rt + rs * np.cos(n * np.arctan(x/y)))**2\n",
    "\n",
    "\n",
    "gg = lambda y,x: g([x,y])\n",
    "\n",
    "curve = lambda x, yguess: fsolve(gg, yguess, args=(x,))\n",
    "xs = np.linspace(-1.25, 1.25)\n",
    "\n",
    "lowerx, upperx = [-1.25, 1.25]\n",
    "lowery, uppery = [-1.25, 1.25]\n",
    "\n",
    "x, y = np.linspace(lowerx, upperx,1000), np.linspace(lowery, uppery,1000)\n",
    "X, Y = np.meshgrid(x,y)\n",
    "Z = f([X,Y])\n",
    "\n",
    "plt.contourf(X,Y,Z)\n",
    "plt.plot(xs, [curve(i, 1.25) for i in xs], 'ok')\n",
    "plt.plot(xs, [curve(i, 0.5) for i in xs], 'ok')\n",
    "plt.plot(xs, [curve(i, -0.5) for i in xs], 'ok')\n",
    "plt.plot(xs, [curve(i, -1.25) for i in xs], 'ok')\n",
    "plt.plot([-0.8560522079066378], [0.8401309930196934], 'xg')\n",
    "plt.plot([-0.84852813], [0.84852813], 'xy')"
   ]
  },
  {
   "cell_type": "code",
   "execution_count": null,
   "metadata": {},
   "outputs": [],
   "source": []
  }
 ],
 "metadata": {
  "kernelspec": {
   "display_name": "Python 3",
   "language": "python",
   "name": "python3"
  },
  "language_info": {
   "codemirror_mode": {
    "name": "ipython",
    "version": 3
   },
   "file_extension": ".py",
   "mimetype": "text/x-python",
   "name": "python",
   "nbconvert_exporter": "python",
   "pygments_lexer": "ipython3",
   "version": "3.7.0"
  }
 },
 "nbformat": 4,
 "nbformat_minor": 2
}
